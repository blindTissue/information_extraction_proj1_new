{
 "cells": [
  {
   "cell_type": "code",
   "execution_count": 1,
   "metadata": {},
   "outputs": [],
   "source": [
    "import numpy as np"
   ]
  },
  {
   "cell_type": "code",
   "execution_count": 2,
   "metadata": {},
   "outputs": [],
   "source": [
    "def read_data(file_path):\n",
    "    text = open(file_path, 'r').read()\n",
    "    text = text.strip()\n",
    "    text = text.replace(' ', '#')\n",
    "    return text\n",
    "\n",
    "text = read_data('textA.txt')\n"
   ]
  },
  {
   "cell_type": "code",
   "execution_count": 7,
   "metadata": {},
   "outputs": [],
   "source": [
    "class simpleHMM:\n",
    "    def __init__(self, states=2, observations=27):\n",
    "        self.transitions = np.ones((states, states)) / states\n",
    "        self.emissions = np.ones((states, observations)) / observations\n",
    "        self.states = states\n",
    "        self.observations = observations\n",
    "\n",
    "    def forward(self, sequence):\n",
    "        alpha_normalized = np.zeros((len(sequence) + 1, self.states))\n",
    "        q_values = np.zeros(len(sequence) + 1)\n",
    "\n",
    "        alpha_normalized[0] = np.ones(self.states) / self.states\n",
    "        q_values[0] = 1\n",
    "\n",
    "        for t in range(1, len(sequence) + 1):\n",
    "            alpha_normalized[t] = alpha_normalized[t - 1] @ self.transitions *  self.emissions[:, self.get_character_index(sequence[t - 1])]\n",
    "            q_values[t] = np.sum(alpha_normalized[t])\n",
    "            alpha_normalized[t] = alpha_normalized[t] / np.sum(alpha_normalized[t])\n",
    "        \n",
    "        self.alpha_normalized = alpha_normalized\n",
    "        self.q_values = q_values\n",
    "        return alpha_normalized, q_values\n",
    "\n",
    "    def backward(self, sequence):\n",
    "        beta_normalized = np.zeros((len(sequence) + 1, self.states))\n",
    "        beta_normalized[-1] = np.ones(self.states) / self.states\n",
    "\n",
    "        for t in range(len(sequence) - 1, -1, -1):\n",
    "            beta_normalized[t] = self.transitions * self.emissions[:, self.get_character_index(sequence[t])] @ beta_normalized[t + 1]\n",
    "            beta_normalized[t] = beta_normalized[t] / self.q_values[t]\n",
    "\n",
    "        self.beta_normalized = beta_normalized\n",
    "        return beta_normalized\n",
    "\n",
    "    def BW(self, sequence):\n",
    "        self.forward(sequence)\n",
    "        self.backward(sequence)\n",
    "        transitions_posterior_probs = np.zeros((len(sequence), self.states, self.states))\n",
    "        new_emission_probs = np.zeros((self.states, self.observations))\n",
    "\n",
    "\n",
    "        for i in range(len(sequence)):\n",
    "            for l in range(self.states):\n",
    "                for r in range(self.states):\n",
    "                    posterior_prob = self.alpha_normalized[i,l] * self.transitions[l,r] * self.emissions[r, self.get_character_index(sequence[i])] * self.beta_normalized[i+1,r]\n",
    "                    new_emission_probs[r, self.get_character_index(sequence[i])] += posterior_prob\n",
    "                    transitions_posterior_probs[i,l,r] = posterior_prob\n",
    "\n",
    "        new_transition_prob = np.sum(transitions_posterior_probs, axis=0)\n",
    "        new_transition_prob = new_transition_prob / np.sum(new_transition_prob, axis=1, keepdims=True)\n",
    "\n",
    "        new_emission_prob = new_emission_probs / np.sum(new_emission_probs, axis=1, keepdims=True)\n",
    "\n",
    "        self.transitions = new_transition_prob\n",
    "        self.emissions = new_emission_prob\n",
    "\n",
    "        return new_transition_prob, new_emission_prob\n",
    "\n",
    "\n",
    "    def get_character_index(self, character):\n",
    "        index = ord(character) - ord('a')\n",
    "        if index < 0 or index >= self.observations: # the observation is space, denoted '#'\n",
    "            index = 26\n",
    "        return index\n"
   ]
  },
  {
   "cell_type": "code",
   "execution_count": 8,
   "metadata": {},
   "outputs": [
    {
     "data": {
      "text/plain": [
       "(array([[0.5, 0.5],\n",
       "        [0.5, 0.5]]),\n",
       " array([[0.06773333, 0.01243333, 0.02866667, 0.03593333, 0.105     ,\n",
       "         0.0182    , 0.0146    , 0.03723333, 0.0579    , 0.00273333,\n",
       "         0.0045    , 0.0391    , 0.0192    , 0.05413333, 0.06503333,\n",
       "         0.0193    , 0.00083333, 0.05333333, 0.05616667, 0.0779    ,\n",
       "         0.02273333, 0.00806667, 0.01323333, 0.0028    , 0.01396667,\n",
       "         0.00046667, 0.1688    ],\n",
       "        [0.06773333, 0.01243333, 0.02866667, 0.03593333, 0.105     ,\n",
       "         0.0182    , 0.0146    , 0.03723333, 0.0579    , 0.00273333,\n",
       "         0.0045    , 0.0391    , 0.0192    , 0.05413333, 0.06503333,\n",
       "         0.0193    , 0.00083333, 0.05333333, 0.05616667, 0.0779    ,\n",
       "         0.02273333, 0.00806667, 0.01323333, 0.0028    , 0.01396667,\n",
       "         0.00046667, 0.1688    ]]))"
      ]
     },
     "execution_count": 8,
     "metadata": {},
     "output_type": "execute_result"
    }
   ],
   "source": [
    "a = simpleHMM()\n",
    "a.BW(text)\n",
    "\n"
   ]
  },
  {
   "cell_type": "code",
   "execution_count": 39,
   "metadata": {},
   "outputs": [
    {
     "name": "stdout",
     "output_type": "stream",
     "text": [
      "[[10 40]\n",
      " [30 80]]\n"
     ]
    }
   ],
   "source": [
    "import numpy as np\n",
    "\n",
    "matrix = np.array([[1, 2], [3, 4]])\n",
    "vector = np.array([10, 20])\n",
    "\n",
    "# Correct way - multiply each row by corresponding vector element\n",
    "result = matrix * vector\n",
    "\n",
    "print(result)\n",
    "# Output:\n",
    "# [[10 20]\n",
    "#  [60 80]]"
   ]
  },
  {
   "cell_type": "code",
   "execution_count": null,
   "metadata": {},
   "outputs": [],
   "source": []
  }
 ],
 "metadata": {
  "kernelspec": {
   "display_name": ".venv",
   "language": "python",
   "name": "python3"
  },
  "language_info": {
   "codemirror_mode": {
    "name": "ipython",
    "version": 3
   },
   "file_extension": ".py",
   "mimetype": "text/x-python",
   "name": "python",
   "nbconvert_exporter": "python",
   "pygments_lexer": "ipython3",
   "version": "3.13.2"
  }
 },
 "nbformat": 4,
 "nbformat_minor": 2
}
