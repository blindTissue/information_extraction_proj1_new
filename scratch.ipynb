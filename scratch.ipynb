{
 "cells": [
  {
   "cell_type": "code",
   "execution_count": 1,
   "metadata": {},
   "outputs": [],
   "source": [
    "import numpy as np\n",
    "from tqdm import tqdm\n"
   ]
  },
  {
   "cell_type": "code",
   "execution_count": 2,
   "metadata": {},
   "outputs": [],
   "source": [
    "def read_data(file_path):\n",
    "    text = open(file_path, 'r').read()\n",
    "    text = text.strip()\n",
    "    text = text.replace(' ', '#')\n",
    "    return text\n",
    "\n",
    "text = read_data('textA.txt')\n"
   ]
  },
  {
   "cell_type": "code",
   "execution_count": 13,
   "metadata": {},
   "outputs": [],
   "source": [
    "class simpleHMM:\n",
    "    def __init__(self, states=2, observations=27, initial_transitions=None, initial_emissions=None):\n",
    "        self.transitions = np.ones((states, states)) / states\n",
    "        self.emissions = np.ones((states, observations)) / observations\n",
    "\n",
    "        if initial_transitions is not None:\n",
    "            self.transitions = initial_transitions\n",
    "        if initial_emissions is not None:\n",
    "            self.emissions = initial_emissions\n",
    "\n",
    "        self.states = states\n",
    "        self.observations = observations\n",
    "\n",
    "    def forward(self, sequence):\n",
    "        alpha_normalized = np.zeros((len(sequence) + 1, self.states))\n",
    "        q_values = np.zeros(len(sequence) + 1)\n",
    "\n",
    "        alpha_normalized[0] = np.ones(self.states) / self.states\n",
    "        q_values[0] = 1\n",
    "\n",
    "        for t in range(1, len(sequence) + 1):\n",
    "            alpha_normalized[t] = alpha_normalized[t - 1] @ self.transitions *  self.emissions[:, self.get_character_index(sequence[t - 1])]\n",
    "            q_values[t] = np.sum(alpha_normalized[t])\n",
    "            alpha_normalized[t] = alpha_normalized[t] / np.sum(alpha_normalized[t])\n",
    "        \n",
    "        self.alpha_normalized = alpha_normalized\n",
    "        self.q_values = q_values\n",
    "        return alpha_normalized, q_values\n",
    "\n",
    "    def backward(self, sequence):\n",
    "        beta_normalized = np.zeros((len(sequence) + 1, self.states))\n",
    "        beta_normalized[-1] = np.ones(self.states) / self.states\n",
    "\n",
    "        for t in range(len(sequence) - 1, -1, -1):\n",
    "            beta_normalized[t] = self.transitions * self.emissions[:, self.get_character_index(sequence[t])] @ beta_normalized[t + 1]\n",
    "            beta_normalized[t] = beta_normalized[t] / self.q_values[t]\n",
    "\n",
    "        self.beta_normalized = beta_normalized\n",
    "        return beta_normalized\n",
    "\n",
    "    def BW(self, sequence):\n",
    "        self.forward(sequence)\n",
    "        self.backward(sequence)\n",
    "        transitions_posterior_probs = np.zeros((len(sequence), self.states, self.states))\n",
    "        new_emission_probs = np.zeros((self.states, self.observations))\n",
    "\n",
    "\n",
    "        for i in range(len(sequence)):\n",
    "            for l in range(self.states):\n",
    "                for r in range(self.states):\n",
    "                    posterior_prob = self.alpha_normalized[i,l] * self.transitions[l,r] * self.emissions[r, self.get_character_index(sequence[i])] * self.beta_normalized[i+1,r]\n",
    "                    new_emission_probs[r, self.get_character_index(sequence[i])] += posterior_prob\n",
    "                    transitions_posterior_probs[i,l,r] = posterior_prob\n",
    "\n",
    "        new_transition_prob = np.sum(transitions_posterior_probs, axis=0)\n",
    "        new_transition_prob = new_transition_prob / np.sum(new_transition_prob, axis=1, keepdims=True)\n",
    "\n",
    "        new_emission_prob = new_emission_probs / np.sum(new_emission_probs, axis=1, keepdims=True)\n",
    "\n",
    "        #self.transitions = new_transition_prob\n",
    "        #self.emissions = new_emission_prob\n",
    "\n",
    "        return new_transition_prob, new_emission_prob\n",
    "\n",
    "    def BW_loop(self, sequence):\n",
    "        epsilon = 1e-10\n",
    "        diff = 10000\n",
    "\n",
    "        itercount = 0\n",
    "        while diff > epsilon:\n",
    "            new_transition_prob, new_emission_prob = self.BW(sequence)\n",
    "            diff = np.sum(np.abs(self.transitions - new_transition_prob)) + np.sum(np.abs(self.emissions - new_emission_prob))\n",
    "            self.transitions = new_transition_prob\n",
    "            self.emissions = new_emission_prob\n",
    "            itercount += 1\n",
    "\n",
    "        print(f\"Converged in {itercount} iterations\")\n",
    "\n",
    "\n",
    "\n",
    "    def BW_loop_for_part_b(self, sequence_a, sequence_b, max_iter=600):\n",
    "        \"\"\"\n",
    "        modification of the BW loop to get answer for part b\n",
    "        \"\"\"\n",
    "        a_logprob = []\n",
    "        b_logprob = []\n",
    "        for i in tqdm(range(max_iter)):\n",
    "            a_logprob.append(self.get_sequence_prob(sequence_a))\n",
    "            b_logprob.append(self.get_sequence_prob(sequence_b))\n",
    "            new_transition_prob, new_emission_prob = self.BW(sequence_a)\n",
    "            self.transitions = new_transition_prob\n",
    "            self.emissions = new_emission_prob\n",
    "\n",
    "        return a_logprob, b_logprob\n",
    "\n",
    "\n",
    "    def BW_loop_for_part_c(self, sequence_a, max_iter=600):\n",
    "        a_1 = []\n",
    "        a_2 = []\n",
    "        n_1 = []\n",
    "        n_2 = []\n",
    "        for i in tqdm(range(max_iter)):\n",
    "            a_1.append(self.emissions[0, self.get_character_index('a')])\n",
    "            a_2.append(self.emissions[1, self.get_character_index('a')])\n",
    "            n_1.append(self.emissions[0, self.get_character_index('n')])\n",
    "            n_2.append(self.emissions[1, self.get_character_index('n')])\n",
    "            new_transition_prob, new_emission_prob = self.BW(sequence_a)\n",
    "            self.transitions = new_transition_prob\n",
    "            self.emissions = new_emission_prob\n",
    "        \n",
    "\n",
    "        return a_1, a_2, n_1, n_2\n",
    "\n",
    "    def get_sequence_prob(self, sequence):\n",
    "        a_n, q = self.forward(sequence)\n",
    "        #currently using base e log\n",
    "        return np.sum(np.log(q[1:])) / len(sequence)\n",
    "        \n",
    "        \n",
    "\n",
    "\n",
    "    def get_character_index(self, character):\n",
    "        index = ord(character) - ord('a')\n",
    "        if index < 0 or index >= self.observations: # the observation is space, denoted '#'\n",
    "            index = 26\n",
    "        return index\n"
   ]
  },
  {
   "cell_type": "code",
   "execution_count": 30,
   "metadata": {},
   "outputs": [
    {
     "name": "stdout",
     "output_type": "stream",
     "text": [
      "# 0.1688\n",
      "a 0.06773333333333334\n",
      "b 0.012433333333333333\n",
      "c 0.028666666666666667\n",
      "d 0.03593333333333333\n",
      "e 0.105\n",
      "f 0.0182\n",
      "g 0.0146\n",
      "h 0.037233333333333334\n",
      "i 0.0579\n",
      "j 0.0027333333333333333\n",
      "k 0.0045\n",
      "l 0.0391\n",
      "m 0.0192\n",
      "n 0.05413333333333333\n",
      "o 0.06503333333333333\n",
      "p 0.0193\n",
      "q 0.0008333333333333334\n",
      "r 0.05333333333333334\n",
      "s 0.05616666666666666\n",
      "t 0.0779\n",
      "u 0.022733333333333335\n",
      "v 0.008066666666666666\n",
      "w 0.013233333333333333\n",
      "x 0.0028\n",
      "y 0.013966666666666667\n",
      "z 0.00046666666666666666\n"
     ]
    }
   ],
   "source": [
    "counts = {}\n",
    "for c in text:\n",
    "    counts[c] = counts.get(c, 0) + 1\n",
    "\n",
    "# order by key\n",
    "counts = dict(sorted(counts.items()))\n",
    "for k, v in counts.items():\n",
    "    v = v / len(text)\n",
    "    print(k, v)\n"
   ]
  },
  {
   "cell_type": "markdown",
   "metadata": {},
   "source": [
    "### Part 1.b"
   ]
  },
  {
   "cell_type": "code",
   "execution_count": 6,
   "metadata": {},
   "outputs": [],
   "source": [
    "# even though this is part b, this is an initialization from part a\n",
    "part_a_transition = np.array([[.49, .51],[.51, .49]])\n",
    "part_a_emission = np.ones((2, 27)) / 27\n",
    "part_a_emission[0,:13] = .0370\n",
    "part_a_emission[1,13:] = .0370\n",
    "part_a_emission[0,13:] = .0371\n",
    "part_a_emission[1,:13] = .0371\n",
    "part_a_emission[:,26] = .0367\n"
   ]
  },
  {
   "cell_type": "code",
   "execution_count": 7,
   "metadata": {},
   "outputs": [],
   "source": [
    "text_a = read_data('textA.txt')\n",
    "text_b = read_data('textB.txt')\n"
   ]
  },
  {
   "cell_type": "code",
   "execution_count": 8,
   "metadata": {},
   "outputs": [
    {
     "name": "stderr",
     "output_type": "stream",
     "text": [
      "100%|██████████| 600/600 [05:01<00:00,  1.99it/s]\n"
     ]
    }
   ],
   "source": [
    "hmm = simpleHMM(initial_transitions=part_a_transition, initial_emissions=part_a_emission)\n",
    "a_logprob, b_logprob = hmm.BW_loop_for_part_b(text_a, text_b)\n"
   ]
  },
  {
   "cell_type": "code",
   "execution_count": 17,
   "metadata": {},
   "outputs": [
    {
     "data": {
      "image/png": "[encoded data removed]",
      "text/plain": [
       "<Figure size 640x480 with 1 Axes>"
      ]
     },
     "metadata": {},
     "output_type": "display_data"
    },
    {
     "data": {
      "text/plain": [
       "<Figure size 640x480 with 0 Axes>"
      ]
     },
     "metadata": {},
     "output_type": "display_data"
    }
   ],
   "source": [
    "import matplotlib.pyplot as plt\n",
    "\n",
    "plt.plot(a_logprob, label='textA')\n",
    "plt.plot(b_logprob, label='textB')\n",
    "plt.xlabel('iteration')\n",
    "plt.ylabel('log probability (e)')\n",
    "plt.legend()\n",
    "plt.savefig('part1_b.png')\n",
    "plt.show()\n",
    "\n",
    "\n"
   ]
  },
  {
   "cell_type": "markdown",
   "metadata": {},
   "source": [
    "### Part 1.c"
   ]
  },
  {
   "cell_type": "code",
   "execution_count": 14,
   "metadata": {},
   "outputs": [
    {
     "name": "stderr",
     "output_type": "stream",
     "text": [
      "100%|██████████| 600/600 [03:03<00:00,  3.28it/s]\n"
     ]
    }
   ],
   "source": [
    "hmm = simpleHMM(initial_transitions=part_a_transition, initial_emissions=part_a_emission)\n",
    "a_1, a_2, n_1, n_2 = hmm.BW_loop_for_part_c(text_a)"
   ]
  },
  {
   "cell_type": "code",
   "execution_count": null,
   "metadata": {},
   "outputs": [
    {
     "data": {
      "image/png": "[encoded data removed]",
      "text/plain": [
       "<Figure size 640x480 with 1 Axes>"
      ]
     },
     "metadata": {},
     "output_type": "display_data"
    },
    {
     "data": {
      "text/plain": [
       "<Figure size 640x480 with 0 Axes>"
      ]
     },
     "metadata": {},
     "output_type": "display_data"
    }
   ],
   "source": [
    "plt.plot(a_1, label='a_1')\n",
    "plt.plot(a_2, label='a_2')\n",
    "plt.plot(n_1, label='n_1')\n",
    "plt.plot(n_2, label='n_2')\n",
    "plt.xlabel('iteration')\n",
    "plt.ylabel('probability')\n",
    "plt.legend()\n",
    "plt.savefig('part1_c.png')\n",
    "plt.show()\n",
    "\n"
   ]
  },
  {
   "cell_type": "markdown",
   "metadata": {},
   "source": [
    "### Part 1.d"
   ]
  },
  {
   "cell_type": "code",
   "execution_count": 23,
   "metadata": {},
   "outputs": [
    {
     "name": "stdout",
     "output_type": "stream",
     "text": [
      "[ 0.13253571 -0.02441499 -0.05606673 -0.07056129  0.21395822 -0.03573883\n",
      " -0.02866961 -0.07079246  0.11798267 -0.00536737 -0.00733841 -0.07677956\n",
      " -0.03770251 -0.10630012  0.13251825 -0.03789887 -0.00163639 -0.10472918\n",
      " -0.11029292 -0.13731797  0.04632365 -0.01584029 -0.02598593 -0.00549828\n",
      " -0.02742595 -0.00091638  0.34395553]\n"
     ]
    }
   ],
   "source": [
    "# assumes that you already rean from part 1.c\n",
    "emission_matrix = hmm.emissions\n",
    "emission_matrix_diff = emission_matrix[1] - emission_matrix[0]\n",
    "print(emission_matrix_diff)\n"
   ]
  },
  {
   "cell_type": "code",
   "execution_count": null,
   "metadata": {},
   "outputs": [
    {
     "data": {
      "image/png": "[encoded data removed]",
      "text/plain": [
       "<Figure size 640x480 with 1 Axes>"
      ]
     },
     "metadata": {},
     "output_type": "display_data"
    },
    {
     "data": {
      "text/plain": [
       "<Figure size 640x480 with 0 Axes>"
      ]
     },
     "metadata": {},
     "output_type": "display_data"
    }
   ],
   "source": [
    "x_axis = [chr(i) for i in range(ord('a'), ord('z') + 1)]\n",
    "x_axis.append('#')\n",
    "plt.bar(x_axis, emission_matrix_diff)\n",
    "plt.xlabel('character')\n",
    "plt.ylabel('probability difference')\n",
    "plt.savefig('part1_d.png')\n",
    "plt.show()\n",
    "\n",
    "\n",
    "\n",
    "# the vowels and space have high probability in the second state\n",
    "\n"
   ]
  },
  {
   "cell_type": "markdown",
   "metadata": {},
   "source": [
    "## Part 2"
   ]
  },
  {
   "cell_type": "markdown",
   "metadata": {},
   "source": [
    "### Part 2.a"
   ]
  },
  {
   "cell_type": "code",
   "execution_count": 31,
   "metadata": {},
   "outputs": [
    {
     "data": {
      "text/plain": [
       "(array([[0.25, 0.25, 0.25, 0.25],\n",
       "        [0.25, 0.25, 0.25, 0.25],\n",
       "        [0.25, 0.25, 0.25, 0.25],\n",
       "        [0.25, 0.25, 0.25, 0.25]]),\n",
       " array([[0.06773333, 0.01243333, 0.02866667, 0.03593333, 0.105     ,\n",
       "         0.0182    , 0.0146    , 0.03723333, 0.0579    , 0.00273333,\n",
       "         0.0045    , 0.0391    , 0.0192    , 0.05413333, 0.06503333,\n",
       "         0.0193    , 0.00083333, 0.05333333, 0.05616667, 0.0779    ,\n",
       "         0.02273333, 0.00806667, 0.01323333, 0.0028    , 0.01396667,\n",
       "         0.00046667, 0.1688    ],\n",
       "        [0.06773333, 0.01243333, 0.02866667, 0.03593333, 0.105     ,\n",
       "         0.0182    , 0.0146    , 0.03723333, 0.0579    , 0.00273333,\n",
       "         0.0045    , 0.0391    , 0.0192    , 0.05413333, 0.06503333,\n",
       "         0.0193    , 0.00083333, 0.05333333, 0.05616667, 0.0779    ,\n",
       "         0.02273333, 0.00806667, 0.01323333, 0.0028    , 0.01396667,\n",
       "         0.00046667, 0.1688    ],\n",
       "        [0.06773333, 0.01243333, 0.02866667, 0.03593333, 0.105     ,\n",
       "         0.0182    , 0.0146    , 0.03723333, 0.0579    , 0.00273333,\n",
       "         0.0045    , 0.0391    , 0.0192    , 0.05413333, 0.06503333,\n",
       "         0.0193    , 0.00083333, 0.05333333, 0.05616667, 0.0779    ,\n",
       "         0.02273333, 0.00806667, 0.01323333, 0.0028    , 0.01396667,\n",
       "         0.00046667, 0.1688    ],\n",
       "        [0.06773333, 0.01243333, 0.02866667, 0.03593333, 0.105     ,\n",
       "         0.0182    , 0.0146    , 0.03723333, 0.0579    , 0.00273333,\n",
       "         0.0045    , 0.0391    , 0.0192    , 0.05413333, 0.06503333,\n",
       "         0.0193    , 0.00083333, 0.05333333, 0.05616667, 0.0779    ,\n",
       "         0.02273333, 0.00806667, 0.01323333, 0.0028    , 0.01396667,\n",
       "         0.00046667, 0.1688    ]]))"
      ]
     },
     "execution_count": 31,
     "metadata": {},
     "output_type": "execute_result"
    }
   ],
   "source": [
    "simple_hmm = simpleHMM(states=4)\n",
    "simple_hmm.BW(text_a)\n",
    "\n",
    "### Again, the model is only able to learn unigram distribution\n"
   ]
  },
  {
   "cell_type": "markdown",
   "metadata": {},
   "source": [
    "## Part 3"
   ]
  },
  {
   "cell_type": "code",
   "execution_count": 55,
   "metadata": {},
   "outputs": [
    {
     "name": "stdout",
     "output_type": "stream",
     "text": [
      "[0.06773333 0.01243333 0.02866667 0.03593333 0.105      0.0182\n",
      " 0.0146     0.03723333 0.0579     0.00273333 0.0045     0.0391\n",
      " 0.0192     0.05413333 0.06503333 0.0193     0.00083333 0.05333333\n",
      " 0.05616667 0.0779     0.02273333 0.00806667 0.01323333 0.0028\n",
      " 0.01396667 0.00046667 0.1688    ]\n"
     ]
    }
   ],
   "source": [
    "# Copy from part 1\n",
    "def read_data(file_path):\n",
    "    text = open(file_path, 'r').read()\n",
    "    text = text.strip()\n",
    "    text = text.replace(' ', '#')\n",
    "    return text\n",
    "\n",
    "\n",
    "\n",
    "def get_unigram_distribution(text):\n",
    "    counts = [0] * 27\n",
    "    for c in text:\n",
    "        if c == \"#\":\n",
    "            counts[26] += 1\n",
    "        else:\n",
    "            counts[ord(c) - ord('a')] += 1\n",
    "    return np.array(counts) / len(text)\n",
    "\n",
    "text_a = read_data('textA.txt')\n",
    "text_b = read_data('textB.txt')\n",
    "unigram_distribution = get_unigram_distribution(text_a)\n",
    "print(unigram_distribution)\n",
    "\n",
    "\n",
    "\n",
    "\n",
    "\n"
   ]
  },
  {
   "cell_type": "code",
   "execution_count": 56,
   "metadata": {},
   "outputs": [],
   "source": [
    "import random\n",
    "def get_delta_distribution(length):\n",
    "    r =[random.random() for _ in range(length)]\n",
    "    r_avg = sum(r) / length\n",
    "    delta = [r[i] - r_avg for i in range(length)]\n",
    "    return np.array(delta)\n",
    "\n",
    "delta_value = get_delta_distribution(27)\n"
   ]
  },
  {
   "cell_type": "code",
   "execution_count": 57,
   "metadata": {},
   "outputs": [
    {
     "name": "stdout",
     "output_type": "stream",
     "text": [
      "(2, 27)\n",
      "0.0010000000000000002\n"
     ]
    }
   ],
   "source": [
    "def get_estimated_emssion_and_lambda(unigram_distribution, delta_value):\n",
    "    \"\"\"\n",
    "    Derives the bona fide probability assignment of Y, according to description of 3\n",
    "    lambda value is decreased 10 times until all the values are positive\n",
    "    input:\n",
    "        unigram_distribution: the unigram distribution of the text\n",
    "        delta_value: the delta value of the text\n",
    "    output:\n",
    "        estimated_emission: the estimated emission matrix\n",
    "        lambda: lambda value used.\n",
    "    \"\"\"\n",
    "    starting_lambda = .1\n",
    "    while True:\n",
    "        state_1_emission = unigram_distribution - starting_lambda * delta_value\n",
    "        state_2_emission = unigram_distribution + starting_lambda * delta_value\n",
    "\n",
    "        if np.all(state_1_emission > 0) and np.all(state_2_emission > 0):\n",
    "            break\n",
    "        starting_lambda *= .1\n",
    "    estimated_emission = np.array([state_1_emission, state_2_emission])\n",
    "    return estimated_emission, starting_lambda\n",
    "\n",
    "estimated_emission, starting_lambda = get_estimated_emssion_and_lambda(unigram_distribution, delta_value)\n",
    "print(estimated_emission.shape)\n",
    "print(starting_lambda)\n",
    "\n",
    "\n"
   ]
  },
  {
   "cell_type": "code",
   "execution_count": 58,
   "metadata": {},
   "outputs": [
    {
     "name": "stderr",
     "output_type": "stream",
     "text": [
      "100%|██████████| 600/600 [04:55<00:00,  2.03it/s]\n"
     ]
    }
   ],
   "source": [
    "part_c_transition = np.array([[.49, .51],[.51, .49]])\n",
    "part_c_emission = estimated_emission\n",
    "hmm = simpleHMM(initial_transitions=part_c_transition, initial_emissions=part_c_emission)\n",
    "a_logprob, b_logprob = hmm.BW_loop_for_part_b(text_a, text_b)\n",
    "\n",
    "\n"
   ]
  },
  {
   "cell_type": "code",
   "execution_count": 60,
   "metadata": {},
   "outputs": [
    {
     "name": "stderr",
     "output_type": "stream",
     "text": [
      "100%|██████████| 600/600 [05:04<00:00,  1.97it/s]\n"
     ]
    }
   ],
   "source": [
    "# copy from part 1.b\n",
    "part_a_transition = np.array([[.49, .51],[.51, .49]])\n",
    "part_a_emission = np.ones((2, 27)) / 27\n",
    "part_a_emission[0,:13] = .0370\n",
    "part_a_emission[1,13:] = .0370\n",
    "part_a_emission[0,13:] = .0371\n",
    "part_a_emission[1,:13] = .0371\n",
    "part_a_emission[:,26] = .0367\n",
    "hmm_a = simpleHMM(initial_transitions=part_a_transition, initial_emissions=part_a_emission)\n",
    "a_logprob_a, b_logprob_a = hmm_a.BW_loop_for_part_b(text_a, text_b)\n"
   ]
  },
  {
   "cell_type": "code",
   "execution_count": null,
   "metadata": {},
   "outputs": [
    {
     "data": {
      "image/png": "[encoded data removed]",
      "text/plain": [
       "<Figure size 640x480 with 1 Axes>"
      ]
     },
     "metadata": {},
     "output_type": "display_data"
    }
   ],
   "source": [
    "plt.plot(a_logprob_a, label='textA (part 1.b)')\n",
    "plt.plot(b_logprob_a, label='textB (part 1.b)')\n",
    "plt.plot(a_logprob, label='textA (part 3)')\n",
    "plt.plot(b_logprob, label='textB (part 3)')\n",
    "\n",
    "plt.xlabel('iteration')\n",
    "plt.ylabel('log probability (e)')\n",
    "plt.legend()\n",
    "plt.savefig('part3.png')\n",
    "plt.show()\n",
    "\n"
   ]
  },
  {
   "cell_type": "code",
   "execution_count": 64,
   "metadata": {},
   "outputs": [
    {
     "name": "stdout",
     "output_type": "stream",
     "text": [
      "alternative logprob textA:  -2.7538723898822774\n",
      "alternative logprob textB:  -2.733154677965016\n",
      "part 1.b logprob textA:  -2.7538724362001243\n",
      "part 1.b logprob textB:  -2.7331446052299952\n"
     ]
    }
   ],
   "source": [
    "print(\"alternative logprob textA: \", a_logprob[-1])\n",
    "print(\"alternative logprob textB: \", b_logprob[-1])\n",
    "print(\"part 1.b logprob textA: \", a_logprob_a[-1])\n",
    "print(\"part 1.b logprob textB: \", b_logprob_a[-1])\n",
    "\n",
    "\n"
   ]
  },
  {
   "cell_type": "code",
   "execution_count": null,
   "metadata": {},
   "outputs": [],
   "source": []
  }
 ],
 "metadata": {
  "kernelspec": {
   "display_name": ".venv",
   "language": "python",
   "name": "python3"
  },
  "language_info": {
   "codemirror_mode": {
    "name": "ipython",
    "version": 3
   },
   "file_extension": ".py",
   "mimetype": "text/x-python",
   "name": "python",
   "nbconvert_exporter": "python",
   "pygments_lexer": "ipython3",
   "version": "3.13.2"
  }
 },
 "nbformat": 4,
 "nbformat_minor": 2
}
